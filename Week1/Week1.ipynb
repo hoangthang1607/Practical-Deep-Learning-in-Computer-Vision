{
 "cells": [
  {
   "cell_type": "markdown",
   "metadata": {},
   "source": [
    "# Assignment 1: Image classification"
   ]
  },
  {
   "cell_type": "code",
   "execution_count": 30,
   "metadata": {},
   "outputs": [],
   "source": [
    "# Load packages\n",
    "import numpy as np\n",
    "import cv2\n",
    "import os\n",
    "import random\n",
    "\n",
    "from keras.preprocessing.image import img_to_array, array_to_img\n",
    "from keras.models import Sequential, load_model\n",
    "from keras.layers.convolutional import Conv2D\n",
    "from keras.layers.core import Activation, Dense, Flatten, Dropout\n",
    "from keras.layers.pooling import MaxPooling2D\n",
    "from keras.layers.normalization import BatchNormalization\n",
    "from keras import backend as K\n",
    "from keras.datasets import cifar10\n",
    "from keras.optimizers import SGD\n",
    "from sklearn.model_selection import train_test_split\n",
    "from sklearn.preprocessing import LabelBinarizer\n",
    "from sklearn.metrics import classification_report\n",
    "import matplotlib.pyplot as plt\n",
    "from IPython.display import SVG\n",
    "from keras.utils.vis_utils import model_to_dot\n",
    "from keras.utils import plot_model\n",
    "from matplotlib.pyplot import imshow\n",
    "\n",
    "%matplotlib inline"
   ]
  },
  {
   "cell_type": "markdown",
   "metadata": {},
   "source": [
    "## 1. Load \"Face_humain\" dataset"
   ]
  },
  {
   "cell_type": "code",
   "execution_count": 2,
   "metadata": {},
   "outputs": [],
   "source": [
    "# Define the data directory\n",
    "path_data = 'E:/Downloads/lfw-funneled/lfw_funneled'"
   ]
  },
  {
   "cell_type": "code",
   "execution_count": 3,
   "metadata": {},
   "outputs": [],
   "source": [
    "# Get the filenames from directory\n",
    "link_names = []\n",
    "for (rootDir, dirNames, filenames) in os.walk(path_data):\n",
    "    for filename in filenames:\n",
    "        if filename.endswith('.jpg'):\n",
    "            link_names.append(os.path.join(rootDir, filename))"
   ]
  },
  {
   "cell_type": "code",
   "execution_count": 6,
   "metadata": {},
   "outputs": [
    {
     "name": "stdout",
     "output_type": "stream",
     "text": [
      "There are 13233 images in the directory\n"
     ]
    }
   ],
   "source": [
    "# Check length\n",
    "print(\"There are {} images in the directory\".format(len(link_names)))"
   ]
  },
  {
   "cell_type": "code",
   "execution_count": 7,
   "metadata": {},
   "outputs": [],
   "source": [
    "# Shuffle with a fixed seed so that the split is reproducible\n",
    "random.seed(167)\n",
    "random.shuffle(link_names)"
   ]
  },
  {
   "cell_type": "code",
   "execution_count": 8,
   "metadata": {},
   "outputs": [],
   "source": [
    "# Randomly pick 7000 images\n",
    "filePaths = link_names[:7000]"
   ]
  },
  {
   "cell_type": "code",
   "execution_count": 9,
   "metadata": {},
   "outputs": [],
   "source": [
    "# Preprocess data: resize and load to array\n",
    "def load_and_resize(filePaths):\n",
    "    data = []\n",
    "    for filename in filePaths:\n",
    "        image = cv2.imread(filename)\n",
    "        image = cv2.resize(image, (32, 32))\n",
    "        image = img_to_array(image)\n",
    "        data.append(image)\n",
    "    return np.array(data)  "
   ]
  },
  {
   "cell_type": "code",
   "execution_count": 10,
   "metadata": {},
   "outputs": [
    {
     "name": "stdout",
     "output_type": "stream",
     "text": [
      "Shape = (7000, 32, 32, 3)\n"
     ]
    }
   ],
   "source": [
    "# Get dataset\n",
    "faces = load_and_resize(filePaths)\n",
    "print(\"Shape = \" + str(faces.shape))"
   ]
  },
  {
   "cell_type": "markdown",
   "metadata": {},
   "source": [
    "## 2. Load Cifar10 dataset from keras.datasets"
   ]
  },
  {
   "cell_type": "code",
   "execution_count": 11,
   "metadata": {},
   "outputs": [],
   "source": [
    "# Load the training and testing CIRFA10 dataset\n",
    "((train_x, train_y), (test_x, test_y)) = cifar10.load_data()"
   ]
  },
  {
   "cell_type": "code",
   "execution_count": 12,
   "metadata": {},
   "outputs": [],
   "source": [
    "# Normalize image vectors\n",
    "faces = faces/255.\n",
    "train_x = train_x/255.\n",
    "test_x = test_x/255."
   ]
  },
  {
   "cell_type": "code",
   "execution_count": 13,
   "metadata": {},
   "outputs": [],
   "source": [
    "# Split Faces_humain dataset\n",
    "(train_faces, test_faces) = train_test_split(faces, test_size = 2000, random_state = 1)"
   ]
  },
  {
   "cell_type": "code",
   "execution_count": 14,
   "metadata": {},
   "outputs": [],
   "source": [
    "# Create labels for faces_humain dataset\n",
    "train_faces_label = 10*np.ones((5000, 1)).astype('int')\n",
    "test_faces_label = 10*np.ones((2000, 1)).astype('int')"
   ]
  },
  {
   "cell_type": "markdown",
   "metadata": {},
   "source": [
    "## 3. Concatenate two datasets"
   ]
  },
  {
   "cell_type": "code",
   "execution_count": 15,
   "metadata": {},
   "outputs": [],
   "source": [
    "X_train = np.concatenate((train_x, train_faces), axis = 0)\n",
    "X_test = np.concatenate((test_x, test_faces), axis = 0)\n",
    "Y_train = np.r_[train_y, train_faces_label]\n",
    "Y_test = np.r_[test_y, test_faces_label]"
   ]
  },
  {
   "cell_type": "code",
   "execution_count": 16,
   "metadata": {},
   "outputs": [],
   "source": [
    "# Convert the labels from integers to vectors\n",
    "lb = LabelBinarizer()\n",
    "Y_train = lb.fit_transform(Y_train)\n",
    "Y_test = lb.transform(Y_test)"
   ]
  },
  {
   "cell_type": "code",
   "execution_count": 79,
   "metadata": {},
   "outputs": [],
   "source": [
    "# Initialize the label names the dataset\n",
    "label_names = [\"airplane\", \"automobile\", \"bird\", \"cat\", \"deer\", \"dog\", \"frog\", \"horse\", \"ship\", \"truck\", \"face_humain\"]"
   ]
  },
  {
   "cell_type": "markdown",
   "metadata": {},
   "source": [
    "## 4. Build and Train MiniVGG Network"
   ]
  },
  {
   "cell_type": "code",
   "execution_count": 18,
   "metadata": {},
   "outputs": [],
   "source": [
    "def MiniVGGNet(width, height, depth, classes):\n",
    "    model = Sequential()\n",
    "    input_shape = (height, width, depth)\n",
    "    \n",
    "    # First CONV => RELU => CONV => RELU => POOL layer set\n",
    "    model.add(Conv2D(filters = 32, kernel_size = (3, 3), padding = 'same', input_shape = input_shape))\n",
    "    model.add(Activation('relu'))\n",
    "    model.add(BatchNormalization(axis = -1))\n",
    "    model.add(Conv2D(filters = 32, kernel_size = (3, 3), padding = 'same'))\n",
    "    model.add(Activation('relu'))\n",
    "    model.add(BatchNormalization(axis = -1))\n",
    "    model.add(MaxPooling2D(pool_size = (2, 2)))\n",
    "    model.add(Dropout(0.25))\n",
    "    \n",
    "    # Second CONV => RELU => CONV => RELU => POOL layer set\n",
    "    model.add(Conv2D(filters = 64, kernel_size = (3, 3), padding = 'same'))\n",
    "    model.add(Activation('relu'))\n",
    "    model.add(BatchNormalization(axis = -1))\n",
    "    model.add(Conv2D(filters = 64, kernel_size = (3, 3), padding = 'same'))\n",
    "    model.add(Activation('relu'))\n",
    "    model.add(BatchNormalization(axis = -1))\n",
    "    model.add(MaxPooling2D(pool_size = (2, 2)))\n",
    "    model.add(Dropout(0.25))\n",
    "    \n",
    "    # First set of FC => RELU layers\n",
    "    model.add(Flatten())\n",
    "    model.add(Dense(units = 512))\n",
    "    model.add(Activation('relu'))\n",
    "    model.add(BatchNormalization())\n",
    "    model.add(Dropout(0.5))\n",
    "    \n",
    "    # Softmax classifier\n",
    "    model.add(Dense(units = classes))\n",
    "    model.add(Activation('softmax'))\n",
    "    \n",
    "    return model"
   ]
  },
  {
   "cell_type": "code",
   "execution_count": 105,
   "metadata": {},
   "outputs": [],
   "source": [
    "# optimizer = SGD(lr = 0.01, momentum = 0.9)\n",
    "# model = MiniVGGNet(32, 32, 3, 11)\n",
    "# model.compile(loss = 'categorical_crossentropy', optimizer = optimizer, metrics = ['accuracy'])\n",
    "# H = model.fit(X_train, Y_train, batch_size = 64, validation_data = (X_test, Y_test), verbose = 1, epochs = 40)"
   ]
  },
  {
   "cell_type": "code",
   "execution_count": 21,
   "metadata": {},
   "outputs": [],
   "source": [
    "# Load pretrained model\n",
    "model = load_model('C:/Users/Admin/THANG HOANG/Course Practical Deep Learning/40epochs.h5')"
   ]
  },
  {
   "cell_type": "code",
   "execution_count": 22,
   "metadata": {},
   "outputs": [
    {
     "name": "stdout",
     "output_type": "stream",
     "text": [
      "12000/12000 [==============================] - 240s 20ms/step\n"
     ]
    },
    {
     "data": {
      "text/plain": [
       "[0.5370336002111435, 0.8456666666666667]"
      ]
     },
     "execution_count": 22,
     "metadata": {},
     "output_type": "execute_result"
    }
   ],
   "source": [
    "# Evaluate on the test sets\n",
    "model.evaluate(x = X_test, y = Y_test, batch_size = 64)"
   ]
  },
  {
   "cell_type": "markdown",
   "metadata": {},
   "source": [
    "## 5. Conclusion\n",
    "\n",
    "My model (Mini VGG Network) gets around 85% test accuracy and 90% train accuracy in 40 epochs (trained by Google Colab) with a mini batch size of 64 and \"SGD\" optimizer. I think if we use data augmention and adjust dropout, take more time to train, we should get more accuracy."
   ]
  },
  {
   "cell_type": "code",
   "execution_count": 28,
   "metadata": {},
   "outputs": [],
   "source": [
    "#  Randomly pick indice of 10 images from test sets to perform\n",
    "idx = np.random.randint(0, X_test.shape[0], 10)"
   ]
  },
  {
   "cell_type": "code",
   "execution_count": 76,
   "metadata": {},
   "outputs": [
    {
     "data": {
      "text/plain": [
       "array([ 7,  3,  7, 10,  2,  3,  7,  8,  7, 10], dtype=int64)"
      ]
     },
     "execution_count": 76,
     "metadata": {},
     "output_type": "execute_result"
    }
   ],
   "source": [
    "# Predict class of these 10 images\n",
    "Y_test_pred = model.predict(X_test[idx])\n",
    "preds = Y_test_pred.argmax(axis = 1)\n",
    "preds"
   ]
  },
  {
   "cell_type": "code",
   "execution_count": 77,
   "metadata": {},
   "outputs": [
    {
     "data": {
      "text/plain": [
       "array([ 7,  3,  7, 10, 10,  3,  4,  8,  7, 10], dtype=int64)"
      ]
     },
     "execution_count": 77,
     "metadata": {},
     "output_type": "execute_result"
    }
   ],
   "source": [
    "# Get true class of these 10 images\n",
    "true = Y_test[idx].argmax(axis = 1)\n",
    "true"
   ]
  },
  {
   "cell_type": "code",
   "execution_count": 80,
   "metadata": {},
   "outputs": [
    {
     "name": "stdout",
     "output_type": "stream",
     "text": [
      "True class: face_humain\n",
      "Predicted class: bird\n"
     ]
    },
    {
     "data": {
      "image/png": "[encoded data removed]",
      "text/plain": [
       "<Figure size 432x288 with 1 Axes>"
      ]
     },
     "metadata": {},
     "output_type": "display_data"
    }
   ],
   "source": [
    "# Display an image which is wrongly classified \n",
    "image = cv2.resize(X_test[idx[4]], (64, 64))\n",
    "imshow(image)\n",
    "print(\"True class: {}\".format(label_names[true[4]]))\n",
    "print(\"Predicted class: {}\".format(label_names[preds[4]]))"
   ]
  },
  {
   "cell_type": "code",
   "execution_count": 82,
   "metadata": {},
   "outputs": [
    {
     "name": "stdout",
     "output_type": "stream",
     "text": [
      "True class: deer\n",
      "Predicted class: horse\n"
     ]
    },
    {
     "data": {
      "image/png": "[encoded data removed]",
      "text/plain": [
       "<Figure size 432x288 with 1 Axes>"
      ]
     },
     "metadata": {},
     "output_type": "display_data"
    }
   ],
   "source": [
    "# Display an other image which is wrongly classified \n",
    "image = cv2.resize(X_test[idx[6]], (64, 64))\n",
    "imshow(image)\n",
    "print(\"True class: {}\".format(label_names[true[6]]))\n",
    "print(\"Predicted class: {}\".format(label_names[preds[6]]))"
   ]
  }
 ],
 "metadata": {
  "kernelspec": {
   "display_name": "Python 3",
   "language": "python",
   "name": "python3"
  },
  "language_info": {
   "codemirror_mode": {
    "name": "ipython",
    "version": 3
   },
   "file_extension": ".py",
   "mimetype": "text/x-python",
   "name": "python",
   "nbconvert_exporter": "python",
   "pygments_lexer": "ipython3",
   "version": "3.6.5"
  }
 },
 "nbformat": 4,
 "nbformat_minor": 2
}

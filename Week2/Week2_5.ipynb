{
 "cells": [
  {
   "cell_type": "code",
   "execution_count": 1,
   "metadata": {
    "colab": {
     "base_uri": "https://localhost:8080/",
     "height": 34
    },
    "colab_type": "code",
    "executionInfo": {
     "elapsed": 2717,
     "status": "ok",
     "timestamp": 1543003276151,
     "user": {
      "displayName": "Thắng Hoàng",
      "photoUrl": "https://lh4.googleusercontent.com/-3dff-RpxG84/AAAAAAAAAAI/AAAAAAAAARU/MwsttIWYFT4/s64/photo.jpg",
      "userId": "15088953542913314140"
     },
     "user_tz": -60
    },
    "id": "j2u28vIseNBO",
    "outputId": "dabaec71-ee33-40c2-b793-90111b84217b"
   },
   "outputs": [
    {
     "name": "stderr",
     "output_type": "stream",
     "text": [
      "Using TensorFlow backend.\n"
     ]
    }
   ],
   "source": [
    "# Load packages\n",
    "import numpy as np\n",
    "import cv2\n",
    "import os\n",
    "import random\n",
    "import h5py\n",
    "import scipy.io as sio\n",
    "from tqdm import tqdm\n",
    "\n",
    "from keras.preprocessing.image import ImageDataGenerator, img_to_array, array_to_img, load_img\n",
    "from keras.applications import ResNet50, VGG16\n",
    "from keras.applications import imagenet_utils\n",
    "from keras.models import Sequential, Model, load_model\n",
    "from keras.layers.convolutional import Conv2D\n",
    "from keras.layers.core import Activation, Dense, Flatten, Dropout\n",
    "from keras.layers import Input\n",
    "from keras.layers.pooling import MaxPooling2D\n",
    "from keras.layers.normalization import BatchNormalization\n",
    "from keras import backend as K\n",
    "from keras.datasets import cifar10\n",
    "from keras.optimizers import SGD\n",
    "from sklearn.model_selection import train_test_split\n",
    "from sklearn.preprocessing import LabelBinarizer, LabelEncoder\n",
    "from sklearn.metrics import classification_report\n",
    "import matplotlib.pyplot as plt\n",
    "from IPython.display import SVG\n",
    "from keras.utils.vis_utils import model_to_dot\n",
    "from keras.utils import plot_model\n",
    "from matplotlib.pyplot import imshow\n",
    "\n",
    "%matplotlib inline"
   ]
  },
  {
   "cell_type": "markdown",
   "metadata": {
    "colab_type": "text",
    "id": "Uxsj2ATReNBd"
   },
   "source": [
    "# 1. Load human dataset"
   ]
  },
  {
   "cell_type": "code",
   "execution_count": 0,
   "metadata": {
    "colab": {},
    "colab_type": "code",
    "id": "8yRbWwh4eNBd"
   },
   "outputs": [],
   "source": [
    "# Define the data directory\n",
    "#path_data = 'C:/Users/h17026889/THANGHOANG/Practical DL4CV/Week2/lfw_funneled'"
   ]
  },
  {
   "cell_type": "code",
   "execution_count": 0,
   "metadata": {
    "colab": {},
    "colab_type": "code",
    "id": "DfvfNTc_eNBd"
   },
   "outputs": [],
   "source": [
    "# Get the filenames from directory\n",
    "#link_names = []\n",
    "#for (rootDir, dirNames, filenames) in os.walk(path_data):\n",
    "#    for filename in filenames:\n",
    "#        if filename.endswith('.jpg'):\n",
    "#            link_names.append(os.path.join(rootDir, filename))"
   ]
  },
  {
   "cell_type": "code",
   "execution_count": 0,
   "metadata": {
    "colab": {},
    "colab_type": "code",
    "id": "CRTClrgVeNBt",
    "outputId": "8859e040-ecaf-4632-89bb-ecba17751dfb"
   },
   "outputs": [
    {
     "name": "stdout",
     "output_type": "stream",
     "text": [
      "There are 13233 images in the directory\n"
     ]
    }
   ],
   "source": [
    "# Check length\n",
    "#print(\"There are {} images in the directory\".format(len(link_names)))"
   ]
  },
  {
   "cell_type": "code",
   "execution_count": 0,
   "metadata": {
    "colab": {},
    "colab_type": "code",
    "id": "rnLaDelieNBt"
   },
   "outputs": [],
   "source": [
    "# Shuffle with a fixed seed so that the split is reproducible\n",
    "#random.seed(167)\n",
    "#random.shuffle(link_names)"
   ]
  },
  {
   "cell_type": "code",
   "execution_count": 0,
   "metadata": {
    "colab": {},
    "colab_type": "code",
    "id": "wqQObFr_eNBt"
   },
   "outputs": [],
   "source": [
    "# Randomly pick 7000 images\n",
    "#train_human_paths = link_names[:5000]\n",
    "#test_human_paths = link_names[5000:7000]"
   ]
  },
  {
   "cell_type": "code",
   "execution_count": 0,
   "metadata": {
    "colab": {},
    "colab_type": "code",
    "id": "WFiL5dEpeNCM"
   },
   "outputs": [],
   "source": [
    "def resize_keep_aspect_ratio(image, width, height):\n",
    "    (h, w) = image.shape[:2]\n",
    "    dH = 0\n",
    "    dW = 0\n",
    "    if w < h:\n",
    "        image = cv2.resize(image, (width, int(h*width/w)), interpolation = cv2.INTER_AREA)\n",
    "        dH = int((image.shape[0] - height) / 2.0)\n",
    "    else:\n",
    "        image = cv2.resize(image, (int(w*height/h), height), interpolation = cv2.INTER_AREA)\n",
    "        dW = int((image.shape[1] - width) / 2.0)\n",
    "    (h, w) = image.shape[:2]\n",
    "    image = image[dH:h-dH, dW:w-dW]\n",
    "    return cv2.resize(image, (width, height), interpolation = cv2.INTER_AREA)"
   ]
  },
  {
   "cell_type": "code",
   "execution_count": 0,
   "metadata": {
    "colab": {},
    "colab_type": "code",
    "id": "l9wG4XsteNCM"
   },
   "outputs": [],
   "source": [
    "def load_and_resize(filePaths):\n",
    "    data = []\n",
    "    for filename in tqdm(filePaths):\n",
    "        image = load_img(filename)\n",
    "        image = img_to_array(image)\n",
    "        image = resize_keep_aspect_ratio(image, 32, 32)\n",
    "        image = np.expand_dims(image, axis=0)\n",
    "        image /= 255. \n",
    "        data.append(image)\n",
    "    return np.vstack(data)"
   ]
  },
  {
   "cell_type": "code",
   "execution_count": 0,
   "metadata": {
    "colab": {},
    "colab_type": "code",
    "id": "-UCofhuWeNCc",
    "scrolled": true
   },
   "outputs": [],
   "source": [
    "#train_human_x = load_and_resize(train_human_paths)\n",
    "#test_human_x = load_and_resize(test_human_paths)"
   ]
  },
  {
   "cell_type": "code",
   "execution_count": 0,
   "metadata": {
    "colab": {},
    "colab_type": "code",
    "id": "ddEzfgoxeNCc"
   },
   "outputs": [],
   "source": [
    "# Create labels for human dataset\n",
    "#train_human_y = 10*np.ones((5000, 1), dtype = int)\n",
    "#test_human_y = 10*np.ones((2000, 1), dtype = int)"
   ]
  },
  {
   "cell_type": "code",
   "execution_count": 0,
   "metadata": {
    "colab": {},
    "colab_type": "code",
    "id": "JIDhbB-8ggxA"
   },
   "outputs": [],
   "source": [
    "# Load human dataset\n",
    "human = h5py.File('drive/My Drive/Practical DL4CV/Week2/human.hdf5')"
   ]
  },
  {
   "cell_type": "code",
   "execution_count": 0,
   "metadata": {
    "colab": {},
    "colab_type": "code",
    "id": "VIj_JVvfghDf"
   },
   "outputs": [],
   "source": [
    "# Get features and labels\n",
    "train_human_x = human[\"features\"][:5000]\n",
    "test_human_x = human[\"features\"][5000:7000]\n",
    "train_human_y = human[\"labels\"][:5000].reshape(-1, 1)\n",
    "test_human_y = human[\"labels\"][5000:7000].reshape(-1, 1)"
   ]
  },
  {
   "cell_type": "code",
   "execution_count": 0,
   "metadata": {
    "colab": {},
    "colab_type": "code",
    "id": "uLAlrVXleNCc"
   },
   "outputs": [],
   "source": [
    "# Check the shape\n",
    "print('Shape of train_human_x = ' + str(train_human_x.shape))\n",
    "print('Shape of train_human_y = ' + str(train_human_y.shape))\n",
    "print('Shape of test_human_x = ' + str(test_human_x.shape))\n",
    "print('Shape of test_human_y = ' + str(test_human_y.shape))"
   ]
  },
  {
   "cell_type": "markdown",
   "metadata": {
    "colab_type": "text",
    "id": "16Gra_0-eNCs"
   },
   "source": [
    "# 2. Load cars dataset"
   ]
  },
  {
   "cell_type": "code",
   "execution_count": 0,
   "metadata": {
    "colab": {},
    "colab_type": "code",
    "id": "LQ5D2Hc1eNCs"
   },
   "outputs": [],
   "source": [
    "# Define the data directory\n",
    "#path_data2 = 'C:/Users/h17026889/THANGHOANG/Practical DL4CV/Week2/cars_train'"
   ]
  },
  {
   "cell_type": "code",
   "execution_count": 0,
   "metadata": {
    "colab": {},
    "colab_type": "code",
    "id": "jGfxk9c4eNCs"
   },
   "outputs": [],
   "source": [
    "# Get the filenames from directory\n",
    "#link_names2 = [os.path.join(path_data2, filename) for filename in os.listdir(path_data2) if filename.endswith('jpg')]"
   ]
  },
  {
   "cell_type": "code",
   "execution_count": 0,
   "metadata": {
    "colab": {},
    "colab_type": "code",
    "id": "9mfmzIU3eNCs",
    "outputId": "4266f645-627d-4554-e4d1-b60027f2e166"
   },
   "outputs": [
    {
     "name": "stdout",
     "output_type": "stream",
     "text": [
      "There are 8144 images in the directory\n"
     ]
    }
   ],
   "source": [
    "# Check length\n",
    "print(\"There are {} images in the directory\".format(len(link_names2)))"
   ]
  },
  {
   "cell_type": "code",
   "execution_count": 0,
   "metadata": {
    "colab": {},
    "colab_type": "code",
    "id": "9HGkLA4IeNCs"
   },
   "outputs": [],
   "source": [
    "# Shuffle with a fixed seed so that the split is reproducible\n",
    "#random.seed(167)\n",
    "#random.shuffle(link_names2)"
   ]
  },
  {
   "cell_type": "code",
   "execution_count": 0,
   "metadata": {
    "colab": {},
    "colab_type": "code",
    "id": "P5tJt_cFeNCs"
   },
   "outputs": [],
   "source": [
    "# Randomly pick 7000 images\n",
    "#train_cars_paths = link_names2[:5000]\n",
    "#test_cars_paths = link_names2[5000:7000]"
   ]
  },
  {
   "cell_type": "code",
   "execution_count": 0,
   "metadata": {
    "colab": {},
    "colab_type": "code",
    "id": "6R96Zha4eNCs",
    "scrolled": true
   },
   "outputs": [],
   "source": [
    "#train_cars_x = load_and_resize(train_cars_paths)"
   ]
  },
  {
   "cell_type": "code",
   "execution_count": 0,
   "metadata": {
    "colab": {},
    "colab_type": "code",
    "id": "Ds3T9u1FeNCs",
    "scrolled": true
   },
   "outputs": [],
   "source": [
    "#test_cars_x = load_and_resize(test_cars_paths)"
   ]
  },
  {
   "cell_type": "code",
   "execution_count": 0,
   "metadata": {
    "colab": {},
    "colab_type": "code",
    "id": "slq0Vhs8eNCs"
   },
   "outputs": [],
   "source": [
    "# Create labels for cars dataset\n",
    "#train_cars_y = 11*np.ones((train_cars_x.shape[0], 1), dtype = int)\n",
    "#test_cars_y = 11*np.ones((test_cars_x.shape[0], 1), dtype = int)"
   ]
  },
  {
   "cell_type": "code",
   "execution_count": 0,
   "metadata": {
    "colab": {},
    "colab_type": "code",
    "id": "NHG5gN0ShC_Q"
   },
   "outputs": [],
   "source": [
    "# Load cars dataset\n",
    "cars = h5py.File('drive/My Drive/Practical DL4CV/Week2/cars.hdf5')"
   ]
  },
  {
   "cell_type": "code",
   "execution_count": 0,
   "metadata": {
    "colab": {},
    "colab_type": "code",
    "id": "AXV762-EhDCE"
   },
   "outputs": [],
   "source": [
    "# Get features and labels\n",
    "train_cars_x = cars[\"features\"][:5000]\n",
    "test_cars_x = cars[\"features\"][5000:7000]\n",
    "train_cars_y = cars[\"labels\"][:5000].reshape(-1, 1)\n",
    "test_cars_y = cars[\"labels\"][5000:7000].reshape(-1, 1)"
   ]
  },
  {
   "cell_type": "code",
   "execution_count": 0,
   "metadata": {
    "colab": {},
    "colab_type": "code",
    "id": "YaA6l49BeNCs"
   },
   "outputs": [],
   "source": [
    "# Check the shape\n",
    "print('Shape of train_cars_x = ' + str(train_cars_x.shape))\n",
    "print('Shape of train_cars_y = ' + str(train_cars_y.shape))\n",
    "print('Shape of test_cars_x = ' + str(test_cars_x.shape))\n",
    "print('Shape of test_cars_y = ' + str(test_cars_y.shape))"
   ]
  },
  {
   "cell_type": "markdown",
   "metadata": {
    "colab_type": "text",
    "id": "xScn05vIeNC7"
   },
   "source": [
    "# 3. Load license dataset"
   ]
  },
  {
   "cell_type": "code",
   "execution_count": 0,
   "metadata": {
    "colab": {},
    "colab_type": "code",
    "id": "P3Yak6ineNC7"
   },
   "outputs": [],
   "source": [
    "# Define the data directory\n",
    "#path_data3 = 'C:/Users/h17026889/THANGHOANG/Practical DL4CV/Week2/2017-IWT4S-CarsReId_LP-dataset'"
   ]
  },
  {
   "cell_type": "code",
   "execution_count": 0,
   "metadata": {
    "colab": {},
    "colab_type": "code",
    "id": "4T07IFKreNC7"
   },
   "outputs": [],
   "source": [
    "# Get the filenames from directory\n",
    "#link_names3 = []\n",
    "#for (rootDir, dirNames, filenames) in os.walk(path_data3):\n",
    "#    for filename in filenames:\n",
    "#        if filename.endswith('.png'):\n",
    "#            link_names3.append(os.path.join(rootDir, filename))"
   ]
  },
  {
   "cell_type": "code",
   "execution_count": 0,
   "metadata": {
    "colab": {},
    "colab_type": "code",
    "id": "ULEE6SKTeNC7",
    "outputId": "6d019120-bd34-42bb-f6b0-f2e70d82571b"
   },
   "outputs": [
    {
     "name": "stdout",
     "output_type": "stream",
     "text": [
      "There are 185903 images in the directory\n"
     ]
    }
   ],
   "source": [
    "# Check length\n",
    "#print(\"There are {} images in the directory\".format(len(link_names3)))"
   ]
  },
  {
   "cell_type": "code",
   "execution_count": 0,
   "metadata": {
    "colab": {},
    "colab_type": "code",
    "id": "aluErP3DeNC7"
   },
   "outputs": [],
   "source": [
    "# Shuffle with a fixed seed so that the split is reproducible\n",
    "#random.seed(167)\n",
    "#random.shuffle(link_names3)"
   ]
  },
  {
   "cell_type": "code",
   "execution_count": 0,
   "metadata": {
    "colab": {},
    "colab_type": "code",
    "id": "ClorxmuseNC7"
   },
   "outputs": [],
   "source": [
    "# Randomly pick 7000 images\n",
    "#train_license_paths = link_names3[:5000]\n",
    "#test_license_paths = link_names3[5000:7000]"
   ]
  },
  {
   "cell_type": "code",
   "execution_count": 0,
   "metadata": {
    "colab": {},
    "colab_type": "code",
    "id": "adAJErwaeNDL"
   },
   "outputs": [],
   "source": [
    "#train_license_x = load_and_resize(train_license_paths)"
   ]
  },
  {
   "cell_type": "code",
   "execution_count": 0,
   "metadata": {
    "colab": {},
    "colab_type": "code",
    "id": "khVCx9joeNDL",
    "scrolled": true
   },
   "outputs": [],
   "source": [
    "#test_license_x = load_and_resize(test_license_paths)"
   ]
  },
  {
   "cell_type": "code",
   "execution_count": 0,
   "metadata": {
    "colab": {},
    "colab_type": "code",
    "id": "vUPF3kvyeNDL"
   },
   "outputs": [],
   "source": [
    "# Create labels for cars dataset\n",
    "#train_license_y = 12*np.ones((train_license_x.shape[0], 1), dtype = int)\n",
    "#test_license_y = 12*np.ones((test_license_x.shape[0], 1), dtype = int)"
   ]
  },
  {
   "cell_type": "code",
   "execution_count": 0,
   "metadata": {
    "colab": {},
    "colab_type": "code",
    "id": "MtK3HrNMhIXL"
   },
   "outputs": [],
   "source": [
    "# Load license dataset\n",
    "license = h5py.File('drive/My Drive/Practical DL4CV/Week2/license.hdf5')"
   ]
  },
  {
   "cell_type": "code",
   "execution_count": 0,
   "metadata": {
    "colab": {},
    "colab_type": "code",
    "id": "wz0xDmnchIZm"
   },
   "outputs": [],
   "source": [
    "# Get features and labels\n",
    "train_license_x = license[\"features\"][:5000]\n",
    "test_license_x = license[\"features\"][5000:7000]\n",
    "train_license_y = license[\"labels\"][:5000].reshape(-1, 1)\n",
    "test_license_y = license[\"labels\"][5000:7000].reshape(-1, 1)"
   ]
  },
  {
   "cell_type": "code",
   "execution_count": 0,
   "metadata": {
    "colab": {},
    "colab_type": "code",
    "id": "l90efCf4eNDL"
   },
   "outputs": [],
   "source": [
    "# Check the shape\n",
    "print('Shape of train_license_x = ' + str(train_license_x.shape))\n",
    "print('Shape of train_license_y = ' + str(train_license_y.shape))\n",
    "print('Shape of test_license_x = ' + str(test_license_x.shape))\n",
    "print('Shape of test_license_y = ' + str(test_license_y.shape))"
   ]
  },
  {
   "cell_type": "markdown",
   "metadata": {
    "colab_type": "text",
    "id": "FkmMMpWKeNDL"
   },
   "source": [
    "# 4. Load Cifar10 dataset from keras.datasets"
   ]
  },
  {
   "cell_type": "code",
   "execution_count": 9,
   "metadata": {
    "colab": {
     "base_uri": "https://localhost:8080/",
     "height": 68
    },
    "colab_type": "code",
    "executionInfo": {
     "elapsed": 50485,
     "status": "ok",
     "timestamp": 1543003438411,
     "user": {
      "displayName": "Thắng Hoàng",
      "photoUrl": "https://lh4.googleusercontent.com/-3dff-RpxG84/AAAAAAAAAAI/AAAAAAAAARU/MwsttIWYFT4/s64/photo.jpg",
      "userId": "15088953542913314140"
     },
     "user_tz": -60
    },
    "id": "5W9d3Cf5eNDL",
    "outputId": "f531c1c9-421d-4c64-be76-04d14dceffc2"
   },
   "outputs": [
    {
     "name": "stdout",
     "output_type": "stream",
     "text": [
      "Downloading data from https://www.cs.toronto.edu/~kriz/cifar-10-python.tar.gz\n",
      "170500096/170498071 [==============================] - 47s 0us/step\n",
      "170508288/170498071 [==============================] - 47s 0us/step\n"
     ]
    }
   ],
   "source": [
    "# Load the training and testing CIRFA10 dataset\n",
    "((train_cifar10_x, train_cifar10_y), (test_cifar10_x, test_cifar10_y)) = cifar10.load_data()"
   ]
  },
  {
   "cell_type": "code",
   "execution_count": 0,
   "metadata": {
    "colab": {},
    "colab_type": "code",
    "id": "fOjQEFyeeNDa"
   },
   "outputs": [],
   "source": [
    "# Normalize image vectors\n",
    "train_cifar10_x = train_cifar10_x / 255.\n",
    "test_cifar10_x = test_cifar10_x / 255."
   ]
  },
  {
   "cell_type": "code",
   "execution_count": 0,
   "metadata": {
    "colab": {},
    "colab_type": "code",
    "id": "3JMaAJE0eNDa"
   },
   "outputs": [],
   "source": [
    "# Check the shape\n",
    "print('Shape of train_cifar10_x = ' + str(train_cifar10_x.shape))\n",
    "print('Shape of train_cifar10_y = ' + str(train_cifar10_y.shape))\n",
    "print('Shape of test_cifar10_x = ' + str(test_cifar10_x.shape))\n",
    "print('Shape of test_cifar10_y = ' + str(test_cifar10_y.shape))"
   ]
  },
  {
   "cell_type": "markdown",
   "metadata": {
    "colab_type": "text",
    "id": "-SfPnwvxeNDa"
   },
   "source": [
    "# 5. Concatenate all datasets"
   ]
  },
  {
   "cell_type": "code",
   "execution_count": 0,
   "metadata": {
    "colab": {},
    "colab_type": "code",
    "id": "sQCOWRVneNDa"
   },
   "outputs": [],
   "source": [
    "X_train = np.concatenate((train_cifar10_x, train_human_x, train_cars_x, train_license_x), axis = 0)"
   ]
  },
  {
   "cell_type": "code",
   "execution_count": 0,
   "metadata": {
    "colab": {},
    "colab_type": "code",
    "id": "hRQxlWOQeNDa"
   },
   "outputs": [],
   "source": [
    "X_test = np.concatenate((test_cifar10_x, test_human_x, test_cars_x, test_license_x), axis = 0)"
   ]
  },
  {
   "cell_type": "code",
   "execution_count": 0,
   "metadata": {
    "colab": {},
    "colab_type": "code",
    "id": "ra-kfLWbeNDa"
   },
   "outputs": [],
   "source": [
    "Y_train = np.concatenate((train_cifar10_y, train_human_y, train_cars_y, train_license_y), axis = 0)"
   ]
  },
  {
   "cell_type": "code",
   "execution_count": 0,
   "metadata": {
    "colab": {},
    "colab_type": "code",
    "id": "VnMPPasHeNDa"
   },
   "outputs": [],
   "source": [
    "Y_test = np.concatenate((test_cifar10_y, test_human_y, test_cars_y, test_license_y), axis = 0)"
   ]
  },
  {
   "cell_type": "code",
   "execution_count": 0,
   "metadata": {
    "colab": {},
    "colab_type": "code",
    "id": "-XJNhWKceNDa"
   },
   "outputs": [],
   "source": [
    "# Convert the labels from integers to vectors\n",
    "lb = LabelBinarizer()\n",
    "Y_train = lb.fit_transform(Y_train)\n",
    "Y_test = lb.transform(Y_test)"
   ]
  },
  {
   "cell_type": "code",
   "execution_count": 0,
   "metadata": {
    "colab": {},
    "colab_type": "code",
    "id": "uVdFVUQOeNDa"
   },
   "outputs": [],
   "source": [
    "# Initialize the label names the dataset\n",
    "label_names = [\"airplane\", \"automobile\", \"bird\", \"cat\", \"deer\", \"dog\", \"frog\", \"horse\", \"ship\", \"truck\", \"human\", \"cars\", \"license\"]"
   ]
  },
  {
   "cell_type": "code",
   "execution_count": 0,
   "metadata": {
    "colab": {},
    "colab_type": "code",
    "id": "Wz6TrzIseNDa"
   },
   "outputs": [],
   "source": [
    "# Check the shape\n",
    "print('Shape of X_train = ' + str(X_train.shape))\n",
    "print('Shape of Y_train = ' + str(Y_train.shape))\n",
    "print('Shape of X_test = ' + str(X_test.shape))\n",
    "print('Shape of Y_test = ' + str(Y_test.shape))"
   ]
  },
  {
   "cell_type": "markdown",
   "metadata": {
    "colab_type": "text",
    "id": "dFI_P9E1eNDa"
   },
   "source": [
    "# 6. Train VGG Network"
   ]
  },
  {
   "cell_type": "code",
   "execution_count": 0,
   "metadata": {
    "colab": {},
    "colab_type": "code",
    "id": "8mAvE-3yeNDa"
   },
   "outputs": [],
   "source": [
    "#baseModel = VGG16(weights = 'imagenet', include_top = False, input_tensor = Input(shape = (32, 32, 3)))"
   ]
  },
  {
   "cell_type": "code",
   "execution_count": 0,
   "metadata": {
    "colab": {},
    "colab_type": "code",
    "id": "FGFarvuCeNDa"
   },
   "outputs": [],
   "source": [
    "#headModel = baseModel.output\n",
    "#headModel = Flatten(name = 'flatten')(headModel)\n",
    "#headModel = Dense(256, activation = 'relu')(headModel)\n",
    "#headModel = Dropout(0.7)(headModel)\n",
    "#headModel = Dense(len(label_names), activation = 'softmax')(headModel)"
   ]
  },
  {
   "cell_type": "code",
   "execution_count": 0,
   "metadata": {
    "colab": {},
    "colab_type": "code",
    "id": "fN8sB-lreNDa"
   },
   "outputs": [],
   "source": [
    "#model = Model(inputs = baseModel.input, outputs = headModel)"
   ]
  },
  {
   "cell_type": "code",
   "execution_count": 0,
   "metadata": {
    "colab": {},
    "colab_type": "code",
    "id": "_PeQTJeCeNDa"
   },
   "outputs": [],
   "source": [
    "#model.summary()"
   ]
  },
  {
   "cell_type": "code",
   "execution_count": 0,
   "metadata": {
    "colab": {},
    "colab_type": "code",
    "id": "7S2B8eFieNDa"
   },
   "outputs": [],
   "source": [
    "# Data augmentation\n",
    "#aug = ImageDataGenerator(rotation_range = 30, width_shift_range = 0.1, height_shift_range = 0.1,\n",
    "#                         shear_range = 0.2, zoom_range = 0.2, horizontal_flip = True, fill_mode = 'nearest' )"
   ]
  },
  {
   "cell_type": "code",
   "execution_count": 0,
   "metadata": {
    "colab": {},
    "colab_type": "code",
    "id": "CkYql5g9eNDa"
   },
   "outputs": [],
   "source": [
    "#opt = SGD(lr = 0.01)\n",
    "#model.compile(loss = 'categorical_crossentropy', optimizer = opt, metrics = ['accuracy'])"
   ]
  },
  {
   "cell_type": "code",
   "execution_count": 0,
   "metadata": {
    "colab": {},
    "colab_type": "code",
    "id": "joO4slR4eNDa"
   },
   "outputs": [],
   "source": [
    "#H = model.fit_generator(aug.flow(X_train, Y_train, batch_size = 32), validation_data = (X_test, Y_test),\n",
    "#                        epochs = 5, steps_per_epoch = len(X_train) // 32, verbose = 1)"
   ]
  },
  {
   "cell_type": "code",
   "execution_count": 0,
   "metadata": {
    "colab": {},
    "colab_type": "code",
    "id": "08P-pBwseNDa"
   },
   "outputs": [],
   "source": [
    "# Load pretrained model\n",
    "model = load_model('drive/My Drive/Practical DL4CV/Week2/30epochs_1.h5')"
   ]
  },
  {
   "cell_type": "code",
   "execution_count": 18,
   "metadata": {
    "colab": {
     "base_uri": "https://localhost:8080/",
     "height": 51
    },
    "colab_type": "code",
    "executionInfo": {
     "elapsed": 188548,
     "status": "ok",
     "timestamp": 1543003663739,
     "user": {
      "displayName": "Thắng Hoàng",
      "photoUrl": "https://lh4.googleusercontent.com/-3dff-RpxG84/AAAAAAAAAAI/AAAAAAAAARU/MwsttIWYFT4/s64/photo.jpg",
      "userId": "15088953542913314140"
     },
     "user_tz": -60
    },
    "id": "XgeSQw_meNDa",
    "outputId": "2ed561ac-c9cf-4c7a-ec4a-4f97e5f817b8"
   },
   "outputs": [
    {
     "name": "stdout",
     "output_type": "stream",
     "text": [
      "16000/16000 [==============================] - 188s 12ms/step\n"
     ]
    },
    {
     "data": {
      "text/plain": [
       "[0.28241994134788084, 0.91425]"
      ]
     },
     "execution_count": 18,
     "metadata": {
      "tags": []
     },
     "output_type": "execute_result"
    }
   ],
   "source": [
    "# Evaluate on the test sets\n",
    "model.evaluate(X_test, Y_test, batch_size = 32)"
   ]
  },
  {
   "cell_type": "markdown",
   "metadata": {
    "colab_type": "text",
    "id": "8FCPc5ibNcZy"
   },
   "source": [
    "# 7. Conclusion\n",
    "\n",
    "My model (VGG Network with input of shape (32, 32, 3)) gets around 91% test accuracy and 94% train accuracy in 30 epochs (trained by Google Colab) with a mini batch size of 32 and \"SGD\" optimizer. I think if we use bigger size of input and adjust dropout, take more time to train, we should get more accuracy."
   ]
  }
 ],
 "metadata": {
  "colab": {
   "collapsed_sections": [],
   "name": "Week2_5.ipynb",
   "provenance": [],
   "version": "0.3.2"
  },
  "kernelspec": {
   "display_name": "Python 3",
   "language": "python",
   "name": "python3"
  },
  "language_info": {
   "codemirror_mode": {
    "name": "ipython",
    "version": 3
   },
   "file_extension": ".py",
   "mimetype": "text/x-python",
   "name": "python",
   "nbconvert_exporter": "python",
   "pygments_lexer": "ipython3",
   "version": "3.6.5"
  }
 },
 "nbformat": 4,
 "nbformat_minor": 1
}
